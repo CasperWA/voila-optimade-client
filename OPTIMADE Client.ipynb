{
 "cells": [
  {
   "cell_type": "code",
   "execution_count": null,
   "metadata": {},
   "outputs": [],
   "source": [
    "import os\n",
    "\n",
    "# This line will include DEBUG level log messages from the start of the app,\n",
    "# as well as include a \"Local server\" as provider (at http://localhost:5000/optimade/v<MAJOR>),\n",
    "# where <MAJOR> is the major version number of the currently supported OPTIMADE spec version.\n",
    "#os.environ[\"OPTIMADE_CLIENT_DEBUG\"] = \"True\""
   ]
  },
  {
   "cell_type": "code",
   "execution_count": null,
   "metadata": {},
   "outputs": [],
   "source": [
    "from optimade_client import (\n",
    "    HeaderDescription,\n",
    "    OptimadeClientFAQ,\n",
    "    OptimadeLog,\n",
    "    OptimadeQueryProviderWidget,\n",
    "    OptimadeQueryFilterWidget,\n",
    "    OptimadeSummaryWidget,\n",
    ")\n",
    "from ipywidgets import dlink, GridspecLayout, HTML\n",
    "from IPython.display import display\n",
    "\n",
    "disable_providers = [\"cod\", \"tcod\", \"nmd\", \"omdb\", \"oqmd\", \"aflow\", \"matcloud\", \"httk\", \"mpds\"]\n",
    "skip_databases = {\"Materials Cloud\": [\"optimade-sample\", \"li-ion-conductors\"]}\n",
    "database_grouping = {\n",
    "    \"Materials Cloud\": {\n",
    "        \"General\": [\"curated-cofs\"],\n",
    "        \"Projects\": [\n",
    "            \"2dstructures\",\n",
    "            \"2dtopo\",\n",
    "            \"pyrene-mofs\",\n",
    "            \"scdm\",\n",
    "            \"sssp\",\n",
    "            \"stoceriaitf\",\n",
    "            \"tc-applicability\",\n",
    "            \"threedd\",\n",
    "        ]}\n",
    "}\n",
    "\n",
    "selector = OptimadeQueryProviderWidget(\n",
    "    disable_providers=disable_providers,\n",
    "    skip_databases=skip_databases,\n",
    "    provider_database_groupings=database_grouping,\n",
    ")\n",
    "filters = OptimadeQueryFilterWidget()\n",
    "summary = OptimadeSummaryWidget()\n",
    "\n",
    "_ = dlink((selector, 'database'), (filters, 'database'))\n",
    "_ = dlink((filters, 'structure'), (summary, 'entity'))\n",
    "\n",
    "HeaderDescription()"
   ]
  },
  {
   "cell_type": "code",
   "execution_count": null,
   "metadata": {},
   "outputs": [],
   "source": [
    "OptimadeClientFAQ()"
   ]
  },
  {
   "cell_type": "code",
   "execution_count": null,
   "metadata": {},
   "outputs": [],
   "source": [
    "OptimadeLog()"
   ]
  },
  {
   "cell_type": "code",
   "execution_count": null,
   "metadata": {},
   "outputs": [],
   "source": [
    "display(HTML('<h2 style=\"margin-below:0px;padding-below:0px;\">Query</h2>'))\n",
    "\n",
    "display(selector)\n",
    "\n",
    "filters_summary = GridspecLayout(1, 31)\n",
    "filters_summary[:, :16] = filters\n",
    "filters_summary[:, 17:] = summary\n",
    "\n",
    "display(filters_summary)"
   ]
  }
 ],
 "metadata": {
  "kernelspec": {
   "display_name": "Python 3",
   "language": "python",
   "name": "python3"
  },
  "language_info": {
   "codemirror_mode": {
    "name": "ipython",
    "version": 3
   },
   "file_extension": ".py",
   "mimetype": "text/x-python",
   "name": "python",
   "nbconvert_exporter": "python",
   "pygments_lexer": "ipython3",
   "version": "3.7.4"
  }
 },
 "nbformat": 4,
 "nbformat_minor": 4
}