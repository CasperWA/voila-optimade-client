{
 "cells": [
  {
   "cell_type": "code",
   "execution_count": 0,
   "metadata": {},
   "outputs": [],
   "source": [
    "import os\n",
    "\n",
    "# This line will include DEBUG level log messages from the start of the app,\n",
    "# as well as include a \"Local server\" as provider (at http://localhost:5000/optimade/v<MAJOR>),\n",
    "# where <MAJOR> is the major version number of the currently supported OPTIMADE spec version.\n",
    "#os.environ[\"OPTIMADE_CLIENT_DEBUG\"] = \"True\""
   ]
  },
  {
   "cell_type": "code",
   "execution_count": 0,
   "metadata": {},
   "outputs": [
    {
     "data": {
      "application/vnd.jupyter.widget-view+json": {
       "model_id": "eb6ce49431104ed787478a75c603232c",
       "version_major": 2,
       "version_minor": 0
      },
      "text/plain": [
       "_ColormakerRegistry()"
      ]
     },
     "metadata": {},
     "output_type": "display_data"
    },
    {
     "data": {
      "application/vnd.jupyter.widget-view+json": {
       "model_id": "eff01e6ce24e44c18dda08bf792aaef2",
       "version_major": 2,
       "version_minor": 0
      },
      "text/plain": [
       "HeaderDescription(children=(ReportLogger(value=\"<input type='hidden' id='report_log' value='%3Cdetails%3E%0A++…"
      ]
     },
     "metadata": {},
     "output_type": "display_data"
    }
   ],
   "source": [
    "from optimade_client import (\n",
    "    HeaderDescription,\n",
    "    OptimadeClientFAQ,\n",
    "    OptimadeLog,\n",
    "    OptimadeQueryProviderWidget,\n",
    "    OptimadeQueryFilterWidget,\n",
    "    OptimadeSummaryWidget,\n",
    ")\n",
    "from ipywidgets import dlink, GridspecLayout, HTML\n",
    "from IPython.display import display\n",
    "\n",
    "selector = OptimadeQueryProviderWidget()\n",
    "filters = OptimadeQueryFilterWidget()\n",
    "summary = OptimadeSummaryWidget()\n",
    "\n",
    "_ = dlink((selector, 'database'), (filters, 'database'))\n",
    "_ = dlink((filters, 'structure'), (summary, 'entity'))\n",
    "\n",
    "HeaderDescription()"
   ]
  },
  {
   "cell_type": "code",
   "execution_count": 0,
   "metadata": {},
   "outputs": [
    {
     "data": {
      "application/vnd.jupyter.widget-view+json": {
       "model_id": "2d3ac030cdf6485683d5b2b6d41a9a45",
       "version_major": 2,
       "version_minor": 0
      },
      "text/plain": [
       "OptimadeClientFAQ(children=(HTML(value='<h4 style=\"font-weight:bold;\">Why is a provider from Materials-Consort…"
      ]
     },
     "metadata": {},
     "output_type": "display_data"
    }
   ],
   "source": [
    "OptimadeClientFAQ()"
   ]
  },
  {
   "cell_type": "code",
   "execution_count": 0,
   "metadata": {},
   "outputs": [
    {
     "data": {
      "application/vnd.jupyter.widget-view+json": {
       "model_id": "f487029ac38b404aa17481f8c881b3f3",
       "version_major": 2,
       "version_minor": 0
      },
      "text/plain": [
       "OptimadeLog(children=(VBox(children=(Checkbox(value=False, description='Show DEBUG messages', indent=False), O…"
      ]
     },
     "metadata": {},
     "output_type": "display_data"
    }
   ],
   "source": [
    "OptimadeLog()"
   ]
  },
  {
   "cell_type": "code",
   "execution_count": 0,
   "metadata": {},
   "outputs": [
    {
     "data": {
      "application/vnd.jupyter.widget-view+json": {
       "model_id": "570112f2c3e248de887cdccaf8c39091",
       "version_major": 2,
       "version_minor": 0
      },
      "text/plain": [
       "HTML(value='<h2 style=\"margin-below:0px;padding-below:0px;\">Query</h2>')"
      ]
     },
     "metadata": {},
     "output_type": "display_data"
    },
    {
     "data": {
      "application/vnd.jupyter.widget-view+json": {
       "model_id": "361a51d138bb4c4887da62a0cdf76f8a",
       "version_major": 2,
       "version_minor": 0
      },
      "text/plain": [
       "OptimadeQueryProviderWidget(children=(ProviderImplementationChooser(children=(Dropdown(layout=Layout(width='au…"
      ]
     },
     "metadata": {},
     "output_type": "display_data"
    },
    {
     "data": {
      "application/vnd.jupyter.widget-view+json": {
       "model_id": "854f77f2025141559df74ee6803a7411",
       "version_major": 2,
       "version_minor": 0
      },
      "text/plain": [
       "GridspecLayout(children=(OptimadeQueryFilterWidget(children=(HTML(value='<h4 style=\"margin:0px;padding:0px;\">A…"
      ]
     },
     "metadata": {},
     "output_type": "display_data"
    }
   ],
   "source": [
    "display(HTML('<h2 style=\"margin-below:0px;padding-below:0px;\">Query</h2>'))\n",
    "\n",
    "display(selector)\n",
    "\n",
    "filters_summary = GridspecLayout(1, 31)\n",
    "filters_summary[:, :16] = filters\n",
    "filters_summary[:, 17:] = summary\n",
    "\n",
    "display(filters_summary)"
   ]
  }
 ],
 "metadata": {
  "kernelspec": {
   "display_name": "Python 3",
   "language": "python",
   "name": "python3"
  },
  "language_info": {
   "codemirror_mode": {
    "name": "ipython",
    "version": 3
   },
   "file_extension": ".py",
   "mimetype": "text/x-python",
   "name": "python",
   "nbconvert_exporter": "python",
   "pygments_lexer": "ipython3",
   "version": "3.7.5"
  }
 },
 "nbformat": 4,
 "nbformat_minor": 4
}
