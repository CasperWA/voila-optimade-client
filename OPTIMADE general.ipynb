{
 "cells": [
  {
   "cell_type": "code",
   "execution_count": null,
   "metadata": {},
   "outputs": [],
   "source": [
    "import os\n",
    "\n",
    "# Comment out this line to not show debug messages\n",
    "#os.environ[\"OPTIMADE_CLIENT_DEBUG\"] = \"True\""
   ]
  },
  {
   "cell_type": "code",
   "execution_count": 9,
   "metadata": {},
   "outputs": [],
   "source": [
    "from aiidalab_optimade import OptimadeQueryProviderWidget, OptimadeQueryFilterWidget, OptimadeSummaryWidget\n",
    "from ipywidgets import dlink, HTML, HTMLMath, GridspecLayout, HBox, Box\n",
    "from IPython.display import display\n",
    "\n",
    "selector = OptimadeQueryProviderWidget(database_limit=2)\n",
    "filters = OptimadeQueryFilterWidget()\n",
    "summary = OptimadeSummaryWidget()\n",
    "\n",
    "_ = dlink((selector, 'database'), (filters, 'database'))\n",
    "_ = dlink((filters, 'structure'), (summary, 'entity'))"
   ]
  },
  {
   "cell_type": "markdown",
   "metadata": {},
   "source": [
    "# OPTIMADE\n",
    "\n"
   ]
  },
  {
   "cell_type": "markdown",
   "metadata": {},
   "source": [
    "## Query"
   ]
  },
  {
   "cell_type": "code",
   "execution_count": 10,
   "metadata": {},
   "outputs": [
    {
     "data": {
      "application/vnd.jupyter.widget-view+json": {
       "model_id": "f1d3228576e04cf0b5bddecdc95d8f29",
       "version_major": 2,
       "version_minor": 0
      },
      "text/plain": [
       "OptimadeQueryProviderWidget(children=(ProviderImplementationChooser(children=(Dropdown(layout=Layout(width='au…"
      ]
     },
     "metadata": {},
     "output_type": "display_data"
    },
    {
     "data": {
      "application/vnd.jupyter.widget-view+json": {
       "model_id": "1be1b06dbf074464aee43561a9713479",
       "version_major": 2,
       "version_minor": 0
      },
      "text/plain": [
       "HBox(children=(OptimadeQueryFilterWidget(children=(HTML(value='<h4 style=\"margin:0px;padding:0px;\">Apply filte…"
      ]
     },
     "metadata": {},
     "output_type": "display_data"
    }
   ],
   "source": [
    "display(selector)\n",
    "\n",
    "filters_summary = GridspecLayout(1, 31)\n",
    "filters_summary[:, :16] = filters\n",
    "filters_summary[:, 17:] = summary\n",
    "\n",
    "#filters_summary = HBox(children=(filters, summary), layout={\"width\": \"100%\", \"height\": \"auto\"})\n",
    "\n",
    "display(filters_summary)"
   ]
  }
 ],
 "metadata": {
  "kernelspec": {
   "display_name": "Python 3.7.5 64-bit ('jupyter': virtualenv)",
   "language": "python",
   "name": "python37564bitjupytervirtualenvb49a49bc685c45e9b5700717fed9db83"
  },
  "language_info": {
   "codemirror_mode": {
    "name": "ipython",
    "version": 3
   },
   "file_extension": ".py",
   "mimetype": "text/x-python",
   "name": "python",
   "nbconvert_exporter": "python",
   "pygments_lexer": "ipython3",
   "version": "3.7.5"
  }
 },
 "nbformat": 4,
 "nbformat_minor": 4
}
