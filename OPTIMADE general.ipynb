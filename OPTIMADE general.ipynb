{
 "cells": [
  {
   "cell_type": "code",
   "execution_count": null,
   "metadata": {},
   "outputs": [],
   "source": [
    "from aiidalab_optimade import OptimadeQueryProviderWidget, OptimadeQueryFilterWidget, OptimadeSummaryWidget\n",
    "from ipywidgets import dlink, HTML, HTMLMath, Box\n",
    "\n",
    "selector = OptimadeQueryProviderWidget()\n",
    "filters = OptimadeQueryFilterWidget()\n",
    "summary = OptimadeSummaryWidget()\n",
    "\n",
    "_ = dlink((selector, 'database'), (filters, 'database'))\n",
    "_ = dlink((filters, 'structure'), (summary, 'entity'))"
   ]
  },
  {
   "cell_type": "markdown",
   "metadata": {},
   "source": [
    "# OPTIMADE"
   ]
  },
  {
   "cell_type": "markdown",
   "metadata": {},
   "source": [
    "## Query"
   ]
  },
  {
   "cell_type": "code",
   "execution_count": null,
   "metadata": {},
   "outputs": [],
   "source": [
    "display(selector)\n",
    "\n",
    "filters_summary = Box(children=(filters, summary))\n",
    "filters_summary.layout = {\n",
    "    \"display\": \"flex\",\n",
    "    \"flex-direction\": \"row\",\n",
    "    \"flex-wrap\": \"wrap\",\n",
    "    \"justify-content\": \"flex-start\",\n",
    "    \"align-items\": \"flex-start\",\n",
    "}\n",
    "filters.layout.flex = \"2 1 auto\"\n",
    "summary.layout.flex = \"1 1 auto\"\n",
    "display(filters_summary)"
   ]
  },
  {
   "cell_type": "markdown",
   "metadata": {},
   "source": []
  },
  {
   "cell_type": "code",
   "execution_count": null,
   "metadata": {},
   "outputs": [],
   "source": [
    "# display(summary)"
   ]
  },
  {
   "cell_type": "markdown",
   "metadata": {},
   "source": []
  },
  {
   "cell_type": "code",
   "execution_count": null,
   "metadata": {},
   "outputs": [],
   "source": [
    "file_output = HTML()\n",
    "_ = dlink((filters, 'structure'), (file_output, 'value'), transform=lambda structure: structure.get_pdb.replace(\"\\n\", \"<br>\") if structure is not None else \"\")\n",
    "display(file_output)"
   ]
  }
 ],
 "metadata": {
  "kernelspec": {
   "display_name": "Python 3",
   "language": "python",
   "name": "python3"
  },
  "language_info": {
   "codemirror_mode": {
    "name": "ipython",
    "version": 3
   },
   "file_extension": ".py",
   "mimetype": "text/x-python",
   "name": "python",
   "nbconvert_exporter": "python",
   "pygments_lexer": "ipython3",
   "version": "3.7.5"
  }
 },
 "nbformat": 4,
 "nbformat_minor": 4
}
