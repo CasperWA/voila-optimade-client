{
 "cells": [
  {
   "cell_type": "code",
   "execution_count": null,
   "source": [
    "# import os\n",
    "\n",
    "# This line will include DEBUG level log messages from the start of the app,\n",
    "# as well as include a \"Local server\" as provider (at http://localhost:5000/optimade/v<MAJOR>),\n",
    "# where <MAJOR> is the major version number of the currently supported OPTIMADE spec version.\n",
    "#os.environ[\"OPTIMADE_CLIENT_DEBUG\"] = \"True\""
   ],
   "outputs": [],
   "metadata": {}
  },
  {
   "cell_type": "code",
   "execution_count": null,
   "source": [
    "from optimade_client import (\n",
    "    HeaderDescription,\n",
    "    OptimadeClientFAQ,\n",
    "    OptimadeLog,\n",
    "    OptimadeQueryProviderWidget,\n",
    "    OptimadeQueryFilterWidget,\n",
    "    OptimadeSummaryWidget,\n",
    ")\n",
    "from ipywidgets import dlink, HTML\n",
    "from IPython.display import display\n",
    "\n",
    "# NOTE: Temporarily disable providers NOT properly satisfying the OPTIMADE specification\n",
    "# Follow issue #206: https://github.com/CasperWA/voila-optimade-client/issues/206\n",
    "# For omdb: Follow issue #246: https://github.com/CasperWA/voila-optimade-client/issues/246\n",
    "disable_providers = [\n",
    "    \"cod\",\n",
    "    \"tcod\",\n",
    "    \"nmd\",\n",
    "    \"oqmd\",\n",
    "    \"aflow\",\n",
    "    \"matcloud\",\n",
    "    \"mpds\",\n",
    "    \"necro\",\n",
    "    \"jarvis\",\n",
    "]\n",
    "# Curate and group Materials Cloud databases\n",
    "skip_databases = {\"Materials Cloud\": [\"li-ion-conductors\"]}\n",
    "database_grouping = {\n",
    "    \"Materials Cloud\": {\n",
    "        \"General\": [\"curated-cofs\"],\n",
    "        \"Projects\": [\n",
    "            \"2dstructures\",\n",
    "            \"2dtopo\",\n",
    "            \"pyrene-mofs\",\n",
    "            \"scdm\",\n",
    "            \"sssp\",\n",
    "            \"stoceriaitf\",\n",
    "            \"tc-applicability\",\n",
    "            \"threedd\",\n",
    "        ]}\n",
    "}\n",
    "\n",
    "selector = OptimadeQueryProviderWidget(\n",
    "    disable_providers=disable_providers,\n",
    "    skip_providers=[\"exmpl\", \"optimade\", \"aiida\"],\n",
    "    skip_databases=skip_databases,\n",
    "    provider_database_groupings=database_grouping,\n",
    ")\n",
    "filters = OptimadeQueryFilterWidget()\n",
    "summary = OptimadeSummaryWidget(direction=\"horizontal\")\n",
    "\n",
    "_ = dlink((selector, 'database'), (filters, 'database'))\n",
    "_ = dlink((filters, 'structure'), (summary, 'entity'))\n",
    "\n",
    "HeaderDescription()"
   ],
   "outputs": [],
   "metadata": {}
  },
  {
   "cell_type": "code",
   "execution_count": null,
   "source": [
    "OptimadeClientFAQ()"
   ],
   "outputs": [],
   "metadata": {}
  },
  {
   "cell_type": "code",
   "execution_count": null,
   "source": [
    "OptimadeLog()"
   ],
   "outputs": [],
   "metadata": {}
  },
  {
   "cell_type": "code",
   "execution_count": null,
   "source": [
    "display(HTML('<h2 style=\"margin-below:0px;padding-below:0px;\">Query a provider\\'s database</h2>'))\n",
    "\n",
    "display(selector, filters, summary)"
   ],
   "outputs": [],
   "metadata": {}
  }
 ],
 "metadata": {
  "kernelspec": {
   "display_name": "Python 3",
   "language": "python",
   "name": "python3"
  },
  "language_info": {
   "codemirror_mode": {
    "name": "ipython",
    "version": 3
   },
   "file_extension": ".py",
   "mimetype": "text/x-python",
   "name": "python",
   "nbconvert_exporter": "python",
   "pygments_lexer": "ipython3",
   "version": "3.7.5"
  }
 },
 "nbformat": 4,
 "nbformat_minor": 4
}