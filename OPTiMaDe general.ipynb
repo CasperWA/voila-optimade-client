{
 "cells": [
  {
   "cell_type": "code",
   "execution_count": null,
   "metadata": {},
   "outputs": [],
   "source": [
    "from aiida import load_profile\n",
    "from aiida.orm import StructureData\n",
    "from aiidalab_optimade import OptimadeQueryWidget\n",
    "from aiidalab_widgets_base.viewers import StructureDataViewer\n",
    "from ipywidgets import dlink\n",
    "\n",
    "load_profile(\"sohier_import\")\n",
    "\n",
    "optimade = OptimadeQueryWidget()\n",
    "structure_viewer = StructureDataViewer()\n",
    "\n",
    "_ = dlink(\n",
    "    (optimade, 'structure'), (structure_viewer, 'structure'),\n",
    "    transform=lambda atoms: None if atoms is None else StructureData(ase=atoms)\n",
    ")"
   ]
  },
  {
   "cell_type": "markdown",
   "metadata": {},
   "source": [
    "# OPTiMaDe"
   ]
  },
  {
   "cell_type": "code",
   "execution_count": null,
   "metadata": {},
   "outputs": [],
   "source": [
    "display(optimade)"
   ]
  },
  {
   "cell_type": "markdown",
   "metadata": {},
   "source": [
    "# Structure viewer"
   ]
  },
  {
   "cell_type": "code",
   "execution_count": null,
   "metadata": {},
   "outputs": [],
   "source": [
    "display(structure_viewer)"
   ]
  }
 ],
 "metadata": {
  "kernelspec": {
   "display_name": "Python 3",
   "language": "python",
   "name": "python3"
  },
  "language_info": {
   "codemirror_mode": {
    "name": "ipython",
    "version": 3
   },
   "file_extension": ".py",
   "mimetype": "text/x-python",
   "name": "python",
   "nbconvert_exporter": "python",
   "pygments_lexer": "ipython3",
   "version": "3.6.7"
  }
 },
 "nbformat": 4,
 "nbformat_minor": 2
}
