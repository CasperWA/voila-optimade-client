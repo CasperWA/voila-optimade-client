{
 "cells": [
  {
   "cell_type": "code",
   "execution_count": 1,
   "metadata": {},
   "outputs": [
    {
     "data": {
      "application/vnd.jupyter.widget-view+json": {
       "model_id": "b7b80943baeb4da1b87a773a7b6a7225",
       "version_major": 2,
       "version_minor": 0
      },
      "text/plain": [
       "OptimadeQueryWidget(children=(Label(value='Search for a structure in an OPTiMaDe database'), OptimadeProviders…"
      ]
     },
     "metadata": {},
     "output_type": "display_data"
    }
   ],
   "source": [
    "from aiida import load_profile\n",
    "from aiida.common.exceptions import ProfileConfigurationError\n",
    "from aiidalab_optimade import OptimadeQueryWidget\n",
    "\n",
    "try:\n",
    "    load_profile(\"aiidalab_optimade\")\n",
    "except ProfileConfigurationError:\n",
    "    load_profile()\n",
    "\n",
    "OptimadeQueryWidget()"
   ]
  },
  {
   "cell_type": "code",
   "execution_count": null,
   "metadata": {},
   "outputs": [],
   "source": []
  }
 ],
 "metadata": {
  "file_extension": ".py",
  "kernelspec": {
   "display_name": "Python 3",
   "language": "python",
   "name": "python3"
  },
  "language_info": {
   "codemirror_mode": {
    "name": "ipython",
    "version": 3
   },
   "file_extension": ".py",
   "mimetype": "text/x-python",
   "name": "python",
   "nbconvert_exporter": "python",
   "pygments_lexer": "ipython3",
   "version": "3.6.7"
  },
  "mimetype": "text/x-python",
  "name": "python",
  "npconvert_exporter": "python",
  "pygments_lexer": "ipython3",
  "version": 3
 },
 "nbformat": 4,
 "nbformat_minor": 2
}
