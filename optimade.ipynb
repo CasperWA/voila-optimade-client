{
 "nbformat": 4,
 "nbformat_minor": 2,
 "metadata": {
  "language_info": {
   "name": "python",
   "codemirror_mode": {
    "name": "ipython",
    "version": 3
   },
   "version": "3.6.7-final"
  },
  "orig_nbformat": 2,
  "file_extension": ".py",
  "mimetype": "text/x-python",
  "name": "python",
  "npconvert_exporter": "python",
  "pygments_lexer": "ipython3",
  "version": 3,
  "kernelspec": {
   "name": "python36764bitaiidalaboptimadevirtualenva89811b4f91b4c2b8b67a3e3f632554a",
   "display_name": "Python 3.6.7 64-bit ('aiidalab_optimade': virtualenv)"
  }
 },
 "cells": [
  {
   "cell_type": "code",
   "execution_count": 1,
   "metadata": {},
   "outputs": [
    {
     "data": {
      "application/vnd.jupyter.widget-view+json": {
       "model_id": "b7b80943baeb4da1b87a773a7b6a7225",
       "version_major": 2,
       "version_minor": 0
      },
      "text/plain": "OptimadeQueryWidget(children=(Label(value='Search for a structure in an OPTiMaDe database'), OptimadeProviders…"
     },
     "metadata": {},
     "output_type": "display_data"
    }
   ],
   "source": [
    "from aiidalab_optimade import OptimadeQueryWidget\n",
    "\n",
    "OptimadeQueryWidget()"
   ]
  },
  {
   "cell_type": "code",
   "execution_count": null,
   "metadata": {},
   "outputs": [],
   "source": []
  }
 ]
}